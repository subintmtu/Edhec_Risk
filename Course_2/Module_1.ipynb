{
 "cells": [
  {
   "cell_type": "markdown",
   "metadata": {},
   "source": [
    "## Module 1"
   ]
  },
  {
   "cell_type": "code",
   "execution_count": 1,
   "metadata": {},
   "outputs": [],
   "source": [
    "import pandas as pd\n",
    "import numpy as np\n",
    "import edhec_risk_kit_206 as erk\n",
    "import statsmodels.api as sm\n",
    "\n",
    "%load_ext autoreload\n",
    "%autoreload 2\n",
    "%matplotlib inline"
   ]
  },
  {
   "cell_type": "markdown",
   "metadata": {},
   "source": [
    "Load the 49 Value Weighted industry portfolio returns. Limit the analysis to returns of the 49 VW portfolios from 1991 onwards (1991 included, 1990 not included, 2018 included). Also load the Fama French Research Factors over the same period. Use the Mkt-RF as in the lab notebooks to compute the CAPM betas."
   ]
  },
  {
   "cell_type": "code",
   "execution_count": 2,
   "metadata": {},
   "outputs": [],
   "source": [
    "ind49_rets = erk.get_ind_returns(weighting=\"vw\", n_inds=49)\n",
    "fff = erk.get_fff_returns()"
   ]
  },
  {
   "cell_type": "markdown",
   "metadata": {},
   "source": [
    "#### 1. What is the CAPM (Single Factor) Beta when evaluated over the entire period (1991-2018) of Beer?"
   ]
  },
  {
   "cell_type": "code",
   "execution_count": 3,
   "metadata": {},
   "outputs": [
    {
     "data": {
      "text/plain": [
       "0.5295417263363027"
      ]
     },
     "execution_count": 3,
     "metadata": {},
     "output_type": "execute_result"
    }
   ],
   "source": [
    "ind49f_excess = ind49_rets[\"1991\":\"2018\"] - fff.loc[\"1991\":\"2018\", ['RF']].values\n",
    "mktf_excess = fff.loc[\"1991\":\"2018\",['Mkt-RF']]\n",
    "expf_var = mktf_excess.copy()\n",
    "expf_var[\"Constant\"] = 1\n",
    "lm = sm.OLS(ind49f_excess[\"Beer\"], expf_var).fit()\n",
    "lm.summary()\n",
    "lm.params[\"Mkt-RF\"]"
   ]
  },
  {
   "cell_type": "markdown",
   "metadata": {},
   "source": [
    "#### 2. Using the same data as the previous question, what is the CAPM Beta when evaluated over the entire period (1991-2018) of Steel?"
   ]
  },
  {
   "cell_type": "code",
   "execution_count": 4,
   "metadata": {},
   "outputs": [
    {
     "data": {
      "text/plain": [
       "1.554609599808529"
      ]
     },
     "execution_count": 4,
     "metadata": {},
     "output_type": "execute_result"
    }
   ],
   "source": [
    "ind49f_excess = ind49_rets[\"1991\":\"2018\"] - fff.loc[\"1991\":\"2018\", ['RF']].values\n",
    "mktf_excess = fff.loc[\"1991\":\"2018\",['Mkt-RF']]\n",
    "expf_var = mktf_excess.copy()\n",
    "expf_var[\"Constant\"] = 1\n",
    "lm = sm.OLS(ind49f_excess[\"Steel\"], expf_var).fit()\n",
    "lm.summary()\n",
    "lm.params[\"Mkt-RF\"]"
   ]
  },
  {
   "cell_type": "markdown",
   "metadata": {},
   "source": [
    "#### 3. Using the same data as the previous question, what is the CAPM Beta when evaluated over the 2013-2018 (both included) period of Beer?"
   ]
  },
  {
   "cell_type": "code",
   "execution_count": 5,
   "metadata": {},
   "outputs": [
    {
     "data": {
      "text/plain": [
       "0.5859603890565972"
      ]
     },
     "execution_count": 5,
     "metadata": {},
     "output_type": "execute_result"
    }
   ],
   "source": [
    "ind49f_excess = ind49_rets[\"2013\":\"2018\"] - fff.loc[\"2013\":\"2018\", ['RF']].values\n",
    "mktf_excess = fff.loc[\"2013\":\"2018\",['Mkt-RF']]\n",
    "expf_var = mktf_excess.copy()\n",
    "expf_var[\"Constant\"] = 1\n",
    "lm = sm.OLS(ind49f_excess[\"Beer\"], expf_var).fit()\n",
    "lm.summary()\n",
    "lm.params[\"Mkt-RF\"]"
   ]
  },
  {
   "cell_type": "markdown",
   "metadata": {},
   "source": [
    "#### 4. Using the same data set as the previous question, what is the CAPM Beta when evaluated over the 2013-2018 (both included) period of Steel?"
   ]
  },
  {
   "cell_type": "code",
   "execution_count": 6,
   "metadata": {},
   "outputs": [
    {
     "data": {
      "text/plain": [
       "1.4169446523353812"
      ]
     },
     "execution_count": 6,
     "metadata": {},
     "output_type": "execute_result"
    }
   ],
   "source": [
    "ind49f_excess = ind49_rets[\"2013\":\"2018\"] - fff.loc[\"2013\":\"2018\", ['RF']].values\n",
    "mktf_excess = fff.loc[\"2013\":\"2018\",['Mkt-RF']]\n",
    "expf_var = mktf_excess.copy()\n",
    "expf_var[\"Constant\"] = 1\n",
    "lm = sm.OLS(ind49f_excess[\"Steel\"], expf_var).fit()\n",
    "lm.summary()\n",
    "lm.params[\"Mkt-RF\"]"
   ]
  },
  {
   "cell_type": "code",
   "execution_count": 7,
   "metadata": {},
   "outputs": [],
   "source": [
    "ind49f_excess = ind49_rets[\"1991\":\"1993\"] - fff.loc[\"1991\":\"1993\", ['RF']].values\n",
    "mktf_excess = fff.loc[\"1991\":\"1993\",['Mkt-RF']]\n",
    "\n",
    "xdict = {}\n",
    "for industry in ind49f_excess.columns:\n",
    "    expf_var = mktf_excess.copy()\n",
    "    expf_var[\"Constant\"] = 1\n",
    "    lm = sm.OLS(ind49f_excess[industry], expf_var).fit()\n",
    "    xdict[industry] = lm.params[\"Mkt-RF\"]"
   ]
  },
  {
   "cell_type": "markdown",
   "metadata": {},
   "source": [
    "#### 5. Using the same data as the previous question, which of the 49 industries had the highest CAPM Beta when evaluated over the 1991-1993 (both included) period? (Use the same industry names as in the files). Enter the name as a text string, and remember to exactly match the column headers in the data file.\n"
   ]
  },
  {
   "cell_type": "code",
   "execution_count": 8,
   "metadata": {},
   "outputs": [
    {
     "data": {
      "text/plain": [
       "'Hlth'"
      ]
     },
     "execution_count": 8,
     "metadata": {},
     "output_type": "execute_result"
    }
   ],
   "source": [
    "max(xdict, key=xdict.get)"
   ]
  },
  {
   "cell_type": "markdown",
   "metadata": {},
   "source": [
    "#### 6. Using the same data as the previous question, which of the 49 industries had the lowest CAPM Beta when evaluated over the 1991-1993 (both included) period? (Use the same industry names as in the files) . Enter the answer as text and remember to exactly match the column headers in the data file."
   ]
  },
  {
   "cell_type": "code",
   "execution_count": 9,
   "metadata": {},
   "outputs": [
    {
     "data": {
      "text/plain": [
       "'Gold'"
      ]
     },
     "execution_count": 9,
     "metadata": {},
     "output_type": "execute_result"
    }
   ],
   "source": [
    "min(xdict, key=xdict.get)"
   ]
  },
  {
   "cell_type": "markdown",
   "metadata": {},
   "source": [
    "For the next 4 questions use the Full 3 Factor Fama-French model using the research data supplied in the following data file:\n",
    "F-F_Research_Data_Factors.csv\n",
    "and the same 1991-2018 period you have just used for the previous questions."
   ]
  },
  {
   "cell_type": "code",
   "execution_count": 10,
   "metadata": {},
   "outputs": [],
   "source": [
    "ff_BI = pd.read_csv(\"data/F-F_Research_Data_Factors.CSV\", parse_dates=True, index_col=0)\n",
    "ff_BI.index = pd.to_datetime(ff_BI.index, format=\"%Y%m\").to_period('M')"
   ]
  },
  {
   "cell_type": "code",
   "execution_count": 11,
   "metadata": {},
   "outputs": [
    {
     "data": {
      "text/html": [
       "<div>\n",
       "<style scoped>\n",
       "    .dataframe tbody tr th:only-of-type {\n",
       "        vertical-align: middle;\n",
       "    }\n",
       "\n",
       "    .dataframe tbody tr th {\n",
       "        vertical-align: top;\n",
       "    }\n",
       "\n",
       "    .dataframe thead th {\n",
       "        text-align: right;\n",
       "    }\n",
       "</style>\n",
       "<table border=\"1\" class=\"dataframe\">\n",
       "  <thead>\n",
       "    <tr style=\"text-align: right;\">\n",
       "      <th></th>\n",
       "      <th>Agric</th>\n",
       "      <th>Food</th>\n",
       "      <th>Soda</th>\n",
       "      <th>Beer</th>\n",
       "      <th>Smoke</th>\n",
       "      <th>Toys</th>\n",
       "      <th>Fun</th>\n",
       "      <th>Books</th>\n",
       "      <th>Hshld</th>\n",
       "      <th>Clths</th>\n",
       "      <th>...</th>\n",
       "      <th>Boxes</th>\n",
       "      <th>Trans</th>\n",
       "      <th>Whlsl</th>\n",
       "      <th>Rtail</th>\n",
       "      <th>Meals</th>\n",
       "      <th>Banks</th>\n",
       "      <th>Insur</th>\n",
       "      <th>RlEst</th>\n",
       "      <th>Fin</th>\n",
       "      <th>Other</th>\n",
       "    </tr>\n",
       "  </thead>\n",
       "  <tbody>\n",
       "    <tr>\n",
       "      <th>beta</th>\n",
       "      <td>0.684404</td>\n",
       "      <td>0.558117</td>\n",
       "      <td>0.817167</td>\n",
       "      <td>0.590261</td>\n",
       "      <td>0.590791</td>\n",
       "      <td>0.939820</td>\n",
       "      <td>1.326548</td>\n",
       "      <td>1.025644</td>\n",
       "      <td>0.646211</td>\n",
       "      <td>1.011445</td>\n",
       "      <td>...</td>\n",
       "      <td>1.021802</td>\n",
       "      <td>0.973939</td>\n",
       "      <td>0.863755</td>\n",
       "      <td>0.898433</td>\n",
       "      <td>0.781258</td>\n",
       "      <td>1.200674</td>\n",
       "      <td>1.026859</td>\n",
       "      <td>1.150121</td>\n",
       "      <td>1.413037</td>\n",
       "      <td>1.088396</td>\n",
       "    </tr>\n",
       "    <tr>\n",
       "      <th>value</th>\n",
       "      <td>0.131897</td>\n",
       "      <td>0.156536</td>\n",
       "      <td>0.397642</td>\n",
       "      <td>0.006329</td>\n",
       "      <td>0.266018</td>\n",
       "      <td>0.423761</td>\n",
       "      <td>0.310497</td>\n",
       "      <td>0.435918</td>\n",
       "      <td>0.125855</td>\n",
       "      <td>0.345496</td>\n",
       "      <td>...</td>\n",
       "      <td>0.283365</td>\n",
       "      <td>0.432217</td>\n",
       "      <td>0.286591</td>\n",
       "      <td>0.021793</td>\n",
       "      <td>0.259776</td>\n",
       "      <td>0.839294</td>\n",
       "      <td>0.570370</td>\n",
       "      <td>0.896931</td>\n",
       "      <td>0.239309</td>\n",
       "      <td>0.283131</td>\n",
       "    </tr>\n",
       "    <tr>\n",
       "      <th>size</th>\n",
       "      <td>0.165856</td>\n",
       "      <td>-0.267873</td>\n",
       "      <td>-0.121587</td>\n",
       "      <td>-0.358655</td>\n",
       "      <td>-0.307794</td>\n",
       "      <td>0.329862</td>\n",
       "      <td>0.281732</td>\n",
       "      <td>0.137026</td>\n",
       "      <td>-0.171127</td>\n",
       "      <td>0.057455</td>\n",
       "      <td>...</td>\n",
       "      <td>-0.000577</td>\n",
       "      <td>0.031009</td>\n",
       "      <td>0.265499</td>\n",
       "      <td>-0.041055</td>\n",
       "      <td>-0.094673</td>\n",
       "      <td>-0.188034</td>\n",
       "      <td>-0.251649</td>\n",
       "      <td>0.687456</td>\n",
       "      <td>0.121906</td>\n",
       "      <td>-0.019304</td>\n",
       "    </tr>\n",
       "  </tbody>\n",
       "</table>\n",
       "<p>3 rows × 49 columns</p>\n",
       "</div>"
      ],
      "text/plain": [
       "          Agric      Food      Soda      Beer     Smoke      Toys       Fun  \\\n",
       "beta   0.684404  0.558117  0.817167  0.590261  0.590791  0.939820  1.326548   \n",
       "value  0.131897  0.156536  0.397642  0.006329  0.266018  0.423761  0.310497   \n",
       "size   0.165856 -0.267873 -0.121587 -0.358655 -0.307794  0.329862  0.281732   \n",
       "\n",
       "          Books     Hshld     Clths  ...     Boxes     Trans     Whlsl  \\\n",
       "beta   1.025644  0.646211  1.011445  ...  1.021802  0.973939  0.863755   \n",
       "value  0.435918  0.125855  0.345496  ...  0.283365  0.432217  0.286591   \n",
       "size   0.137026 -0.171127  0.057455  ... -0.000577  0.031009  0.265499   \n",
       "\n",
       "          Rtail     Meals     Banks     Insur     RlEst       Fin     Other  \n",
       "beta   0.898433  0.781258  1.200674  1.026859  1.150121  1.413037  1.088396  \n",
       "value  0.021793  0.259776  0.839294  0.570370  0.896931  0.239309  0.283131  \n",
       "size  -0.041055 -0.094673 -0.188034 -0.251649  0.687456  0.121906 -0.019304  \n",
       "\n",
       "[3 rows x 49 columns]"
      ]
     },
     "execution_count": 11,
     "metadata": {},
     "output_type": "execute_result"
    }
   ],
   "source": [
    "import pandas as pd\n",
    "import numpy as np\n",
    "ind49_excess1 = ind49_rets[\"1991\":\"2018\"] - fff.loc[\"1991\":\"2018\", ['RF']].values\n",
    "mkt_excess1 = fff.loc[\"1991\":\"2018\",['Mkt-RF']]\n",
    "exp_var1 = mkt_excess1.copy()\n",
    "exp_var1[\"Constant\"] = 1\n",
    "exp_var1[\"Value\"] = fff.loc[\"1991\":\"2018\",['HML']]\n",
    "exp_var1[\"Size\"] = fff.loc[\"1991\":\"2018\",['SMB']]\n",
    "results = pd.DataFrame(index = [\"beta\",\"value\",\"size\"], columns =ind49_rets.columns)\n",
    "for index in ind49_excess1:\n",
    "    industry_name=index\n",
    "    lm=sm.OLS(ind49_excess1[industry_name], exp_var1).fit()\n",
    "    results[index]=(lm.params[0], lm.params[2], lm.params[3])\n",
    "    \n",
    "results"
   ]
  },
  {
   "cell_type": "markdown",
   "metadata": {},
   "source": [
    "#### 7. Of the 49 industries, which displayed the highest Small Cap tilt when analyzed over the entire 1991-2018 period?\n",
    "#### 8. Using the same dataset and period as the previous question, of the 49 industries, which displayed the highest Large Cap tilt when analyzed over the entire period?\n",
    "#### 9. Using the same data as period as the previous question, of the 49 industries, which displayed the highest Value tilt when analyzed over the entire period?\n",
    "#### 10. Using the same data set and period as the previous question, of the 49 industries, which displayed the highest Growth tilt when analyzed over the entire period?"
   ]
  },
  {
   "cell_type": "code",
   "execution_count": 12,
   "metadata": {},
   "outputs": [
    {
     "data": {
      "text/plain": [
       "beta     Steel\n",
       "value    Txtls\n",
       "size     FabPr\n",
       "dtype: object"
      ]
     },
     "execution_count": 12,
     "metadata": {},
     "output_type": "execute_result"
    }
   ],
   "source": [
    "results.idxmax(axis=1)"
   ]
  },
  {
   "cell_type": "code",
   "execution_count": 13,
   "metadata": {},
   "outputs": [
    {
     "data": {
      "text/plain": [
       "beta      Gold\n",
       "value    Softw\n",
       "size      Beer\n",
       "dtype: object"
      ]
     },
     "execution_count": 13,
     "metadata": {},
     "output_type": "execute_result"
    }
   ],
   "source": [
    "results.idxmin(axis=1)"
   ]
  },
  {
   "cell_type": "markdown",
   "metadata": {},
   "source": [
    "#### 7. FabPr\n",
    "#### 8. Beer\n",
    "#### 9. Txtls\n",
    "#### 10. Softw"
   ]
  }
 ],
 "metadata": {
  "kernelspec": {
   "display_name": "Python 3",
   "language": "python",
   "name": "python3"
  },
  "language_info": {
   "codemirror_mode": {
    "name": "ipython",
    "version": 3
   },
   "file_extension": ".py",
   "mimetype": "text/x-python",
   "name": "python",
   "nbconvert_exporter": "python",
   "pygments_lexer": "ipython3",
   "version": "3.7.6"
  }
 },
 "nbformat": 4,
 "nbformat_minor": 4
}
