{
 "cells": [
  {
   "cell_type": "markdown",
   "metadata": {},
   "source": [
    "Load the 30 Value Weighted industry portfolio returns. Limit the analysis to returns of the 30 VW portfolios from 1997 onwards (1997 included, 1996 not included, 2018 included). Also load the Market Caps of each of the 30 industries. Run a backtest of comparing a CapWeighted vs an EW portfolio over the period. Though these two weighting schemes do not need any estimation, use an estimation period of 36 months so that we can compare it in the next few questions."
   ]
  },
  {
   "cell_type": "code",
   "execution_count": 1,
   "metadata": {},
   "outputs": [],
   "source": [
    "import pandas as pd\n",
    "import numpy as np\n",
    "import edhec_risk_kit_206 as erk\n",
    "import statsmodels.api as sm\n",
    "\n",
    "%load_ext autoreload\n",
    "%autoreload 2\n",
    "%matplotlib inline"
   ]
  },
  {
   "cell_type": "code",
   "execution_count": 2,
   "metadata": {},
   "outputs": [],
   "source": [
    "ind30_rets = erk.get_ind_returns(weighting=\"vw\", n_inds=30)[\"1997\":]\n",
    "ind30_mcap = erk.get_ind_market_caps(n_inds=30, weights=True)[\"1997\":]"
   ]
  },
  {
   "cell_type": "code",
   "execution_count": 3,
   "metadata": {},
   "outputs": [],
   "source": [
    "ewr = erk.backtest_ws(ind30_rets, weighting=erk.weight_ew, estimation_window=36)\n",
    "cwr = erk.backtest_ws(ind30_rets, weighting=erk.weight_cw, cap_weights=ind30_mcap, estimation_window=36)"
   ]
  },
  {
   "cell_type": "code",
   "execution_count": 4,
   "metadata": {},
   "outputs": [],
   "source": [
    "btr = pd.DataFrame({\"EW\": ewr, \"CW\": cwr})"
   ]
  },
  {
   "cell_type": "markdown",
   "metadata": {},
   "source": [
    "1. What was the annualized return over period for the Cap Weighted Industry Portfolio?\n",
    "2. What was the annualized volatility over the period for the Cap Weighted Industry Portfolio?\n",
    "3. What was the annualized return over period for the Equal Weighted Industry Portfolio?\n",
    "4. What was the annualized volatility over the period for the Equal Weighted Industry Portfolio?"
   ]
  },
  {
   "cell_type": "code",
   "execution_count": 5,
   "metadata": {},
   "outputs": [
    {
     "data": {
      "text/html": [
       "<div>\n",
       "<style scoped>\n",
       "    .dataframe tbody tr th:only-of-type {\n",
       "        vertical-align: middle;\n",
       "    }\n",
       "\n",
       "    .dataframe tbody tr th {\n",
       "        vertical-align: top;\n",
       "    }\n",
       "\n",
       "    .dataframe thead th {\n",
       "        text-align: right;\n",
       "    }\n",
       "</style>\n",
       "<table border=\"1\" class=\"dataframe\">\n",
       "  <thead>\n",
       "    <tr style=\"text-align: right;\">\n",
       "      <th></th>\n",
       "      <th>Annualized Return</th>\n",
       "      <th>Annualized Vol</th>\n",
       "      <th>Skewness</th>\n",
       "      <th>Kurtosis</th>\n",
       "      <th>Cornish-Fisher VaR (5%)</th>\n",
       "      <th>Historic CVaR (5%)</th>\n",
       "      <th>Sharpe Ratio</th>\n",
       "      <th>Max Drawdown</th>\n",
       "    </tr>\n",
       "  </thead>\n",
       "  <tbody>\n",
       "    <tr>\n",
       "      <th>EW</th>\n",
       "      <td>0.077614</td>\n",
       "      <td>0.158685</td>\n",
       "      <td>-0.538531</td>\n",
       "      <td>5.317042</td>\n",
       "      <td>0.072485</td>\n",
       "      <td>0.106220</td>\n",
       "      <td>0.291838</td>\n",
       "      <td>-0.532980</td>\n",
       "    </tr>\n",
       "    <tr>\n",
       "      <th>CW</th>\n",
       "      <td>0.064564</td>\n",
       "      <td>0.151274</td>\n",
       "      <td>-0.552933</td>\n",
       "      <td>4.248421</td>\n",
       "      <td>0.070982</td>\n",
       "      <td>0.098269</td>\n",
       "      <td>0.222191</td>\n",
       "      <td>-0.518857</td>\n",
       "    </tr>\n",
       "  </tbody>\n",
       "</table>\n",
       "</div>"
      ],
      "text/plain": [
       "    Annualized Return  Annualized Vol  Skewness  Kurtosis  \\\n",
       "EW           0.077614        0.158685 -0.538531  5.317042   \n",
       "CW           0.064564        0.151274 -0.552933  4.248421   \n",
       "\n",
       "    Cornish-Fisher VaR (5%)  Historic CVaR (5%)  Sharpe Ratio  Max Drawdown  \n",
       "EW                 0.072485            0.106220      0.291838     -0.532980  \n",
       "CW                 0.070982            0.098269      0.222191     -0.518857  "
      ]
     },
     "execution_count": 5,
     "metadata": {},
     "output_type": "execute_result"
    }
   ],
   "source": [
    "erk.summary_stats(btr.dropna())"
   ]
  },
  {
   "cell_type": "markdown",
   "metadata": {},
   "source": [
    "Now using the same data and same period, re-run the EW backtest but this time create a tethered EW portfolio by removing Microcap industries using a threshold of 1% and a max cap-weight multiple of 2X"
   ]
  },
  {
   "cell_type": "code",
   "execution_count": 6,
   "metadata": {},
   "outputs": [],
   "source": [
    "ewtr = erk.backtest_ws(ind30_rets, cap_weights=ind30_mcap, max_cw_mult=2, microcap_threshold=.01, estimation_window=36 )\n",
    "btr = pd.DataFrame({\"EW\": ewr, \"EW-Tethered\": ewtr, \"CW\": cwr})"
   ]
  },
  {
   "cell_type": "markdown",
   "metadata": {},
   "source": [
    "5. What was the annualized return over the period for the tethered Equal Weighted Industry Portfolio?\n",
    "6. What was the annualized volatility over the period for the tethered Equal Weighted Industry Portfolio?"
   ]
  },
  {
   "cell_type": "code",
   "execution_count": 7,
   "metadata": {},
   "outputs": [
    {
     "data": {
      "text/html": [
       "<div>\n",
       "<style scoped>\n",
       "    .dataframe tbody tr th:only-of-type {\n",
       "        vertical-align: middle;\n",
       "    }\n",
       "\n",
       "    .dataframe tbody tr th {\n",
       "        vertical-align: top;\n",
       "    }\n",
       "\n",
       "    .dataframe thead th {\n",
       "        text-align: right;\n",
       "    }\n",
       "</style>\n",
       "<table border=\"1\" class=\"dataframe\">\n",
       "  <thead>\n",
       "    <tr style=\"text-align: right;\">\n",
       "      <th></th>\n",
       "      <th>Annualized Return</th>\n",
       "      <th>Annualized Vol</th>\n",
       "      <th>Skewness</th>\n",
       "      <th>Kurtosis</th>\n",
       "      <th>Cornish-Fisher VaR (5%)</th>\n",
       "      <th>Historic CVaR (5%)</th>\n",
       "      <th>Sharpe Ratio</th>\n",
       "      <th>Max Drawdown</th>\n",
       "    </tr>\n",
       "  </thead>\n",
       "  <tbody>\n",
       "    <tr>\n",
       "      <th>EW</th>\n",
       "      <td>0.077614</td>\n",
       "      <td>0.158685</td>\n",
       "      <td>-0.538531</td>\n",
       "      <td>5.317042</td>\n",
       "      <td>0.072485</td>\n",
       "      <td>0.106220</td>\n",
       "      <td>0.291838</td>\n",
       "      <td>-0.532980</td>\n",
       "    </tr>\n",
       "    <tr>\n",
       "      <th>EW-Tethered</th>\n",
       "      <td>0.076838</td>\n",
       "      <td>0.140774</td>\n",
       "      <td>-0.649872</td>\n",
       "      <td>4.664374</td>\n",
       "      <td>0.065482</td>\n",
       "      <td>0.093766</td>\n",
       "      <td>0.323653</td>\n",
       "      <td>-0.487413</td>\n",
       "    </tr>\n",
       "    <tr>\n",
       "      <th>CW</th>\n",
       "      <td>0.064564</td>\n",
       "      <td>0.151274</td>\n",
       "      <td>-0.552933</td>\n",
       "      <td>4.248421</td>\n",
       "      <td>0.070982</td>\n",
       "      <td>0.098269</td>\n",
       "      <td>0.222191</td>\n",
       "      <td>-0.518857</td>\n",
       "    </tr>\n",
       "  </tbody>\n",
       "</table>\n",
       "</div>"
      ],
      "text/plain": [
       "             Annualized Return  Annualized Vol  Skewness  Kurtosis  \\\n",
       "EW                    0.077614        0.158685 -0.538531  5.317042   \n",
       "EW-Tethered           0.076838        0.140774 -0.649872  4.664374   \n",
       "CW                    0.064564        0.151274 -0.552933  4.248421   \n",
       "\n",
       "             Cornish-Fisher VaR (5%)  Historic CVaR (5%)  Sharpe Ratio  \\\n",
       "EW                          0.072485            0.106220      0.291838   \n",
       "EW-Tethered                 0.065482            0.093766      0.323653   \n",
       "CW                          0.070982            0.098269      0.222191   \n",
       "\n",
       "             Max Drawdown  \n",
       "EW              -0.532980  \n",
       "EW-Tethered     -0.487413  \n",
       "CW              -0.518857  "
      ]
     },
     "execution_count": 7,
     "metadata": {},
     "output_type": "execute_result"
    }
   ],
   "source": [
    "erk.summary_stats(btr.dropna())"
   ]
  },
  {
   "cell_type": "markdown",
   "metadata": {},
   "source": [
    "7. What was Tracking Error between the Pure EW (without any tethering) portfolio and the CW portfolio?\n",
    "8. What was Tracking Error between the Tethered EW portfolio and the CW portfolio?"
   ]
  },
  {
   "cell_type": "code",
   "execution_count": 8,
   "metadata": {},
   "outputs": [
    {
     "data": {
      "text/plain": [
       "(0.18736759551222992, 0.1165066134512106)"
      ]
     },
     "execution_count": 8,
     "metadata": {},
     "output_type": "execute_result"
    }
   ],
   "source": [
    "erk.tracking_error(ewr, cwr),erk.tracking_error(ewtr, cwr)"
   ]
  },
  {
   "cell_type": "markdown",
   "metadata": {},
   "source": [
    "Run a backtest for the same period (1997 onwards i.e. 1997 included, 1996 not included, 2018 included), using an estimation window of 36 months as above, to build the Global Minimum Variance Portfolio by estimating the Covariance matrix using Sample Covariance. (This might take a minute or so to run depending on your computer power!)\n",
    "\n",
    "9. What was the annualized return over the period for the GMV Portfolio?\n",
    "10. Use the same GMV portfolio as the previous question. What was the annualized volatility over the period for the GMV Portfolio?"
   ]
  },
  {
   "cell_type": "code",
   "execution_count": 9,
   "metadata": {},
   "outputs": [
    {
     "data": {
      "text/html": [
       "<div>\n",
       "<style scoped>\n",
       "    .dataframe tbody tr th:only-of-type {\n",
       "        vertical-align: middle;\n",
       "    }\n",
       "\n",
       "    .dataframe tbody tr th {\n",
       "        vertical-align: top;\n",
       "    }\n",
       "\n",
       "    .dataframe thead th {\n",
       "        text-align: right;\n",
       "    }\n",
       "</style>\n",
       "<table border=\"1\" class=\"dataframe\">\n",
       "  <thead>\n",
       "    <tr style=\"text-align: right;\">\n",
       "      <th></th>\n",
       "      <th>Annualized Return</th>\n",
       "      <th>Annualized Vol</th>\n",
       "      <th>Skewness</th>\n",
       "      <th>Kurtosis</th>\n",
       "      <th>Cornish-Fisher VaR (5%)</th>\n",
       "      <th>Historic CVaR (5%)</th>\n",
       "      <th>Sharpe Ratio</th>\n",
       "      <th>Max Drawdown</th>\n",
       "    </tr>\n",
       "  </thead>\n",
       "  <tbody>\n",
       "    <tr>\n",
       "      <th>EW</th>\n",
       "      <td>0.077614</td>\n",
       "      <td>0.158685</td>\n",
       "      <td>-0.538531</td>\n",
       "      <td>5.317042</td>\n",
       "      <td>0.072485</td>\n",
       "      <td>0.106220</td>\n",
       "      <td>0.291838</td>\n",
       "      <td>-0.532980</td>\n",
       "    </tr>\n",
       "    <tr>\n",
       "      <th>CW</th>\n",
       "      <td>0.064564</td>\n",
       "      <td>0.151274</td>\n",
       "      <td>-0.552933</td>\n",
       "      <td>4.248421</td>\n",
       "      <td>0.070982</td>\n",
       "      <td>0.098269</td>\n",
       "      <td>0.222191</td>\n",
       "      <td>-0.518857</td>\n",
       "    </tr>\n",
       "    <tr>\n",
       "      <th>GMV-Sample</th>\n",
       "      <td>0.066305</td>\n",
       "      <td>0.117410</td>\n",
       "      <td>-0.741086</td>\n",
       "      <td>4.469204</td>\n",
       "      <td>0.055456</td>\n",
       "      <td>0.080583</td>\n",
       "      <td>0.300812</td>\n",
       "      <td>-0.421289</td>\n",
       "    </tr>\n",
       "  </tbody>\n",
       "</table>\n",
       "</div>"
      ],
      "text/plain": [
       "            Annualized Return  Annualized Vol  Skewness  Kurtosis  \\\n",
       "EW                   0.077614        0.158685 -0.538531  5.317042   \n",
       "CW                   0.064564        0.151274 -0.552933  4.248421   \n",
       "GMV-Sample           0.066305        0.117410 -0.741086  4.469204   \n",
       "\n",
       "            Cornish-Fisher VaR (5%)  Historic CVaR (5%)  Sharpe Ratio  \\\n",
       "EW                         0.072485            0.106220      0.291838   \n",
       "CW                         0.070982            0.098269      0.222191   \n",
       "GMV-Sample                 0.055456            0.080583      0.300812   \n",
       "\n",
       "            Max Drawdown  \n",
       "EW             -0.532980  \n",
       "CW             -0.518857  \n",
       "GMV-Sample     -0.421289  "
      ]
     },
     "execution_count": 9,
     "metadata": {},
     "output_type": "execute_result"
    }
   ],
   "source": [
    "mv_s_r = erk.backtest_ws(ind30_rets, estimation_window=36, weighting=erk.weight_gmv, cov_estimator=erk.sample_cov)\n",
    "btr = pd.DataFrame({\"EW\": ewr, \"CW\": cwr, \"GMV-Sample\": mv_s_r})\n",
    "erk.summary_stats(btr.dropna())"
   ]
  },
  {
   "cell_type": "markdown",
   "metadata": {},
   "source": [
    "Run a backtest for the same period as the previous question, and again using an estimation window of 36 months as above, to build the Global Minimum Variance Portfolio but this time, estimating the Covariance matrix using Shrinkage between the Constant Correlation and Sample Covariance estimates using a delta of 0.25. (This might take a minute or so to run depending on your computer power!)\n",
    "\n",
    "11. What was the annualized return over the period for this new Shrinkage-GMV Portfolio?\n",
    "12. Using the same Shrinkage-GMV portfolio return series you used in the previous question, what was the annualized volatility over the period for the Shrinkage-GMV Portfolio?"
   ]
  },
  {
   "cell_type": "code",
   "execution_count": 11,
   "metadata": {},
   "outputs": [
    {
     "data": {
      "text/html": [
       "<div>\n",
       "<style scoped>\n",
       "    .dataframe tbody tr th:only-of-type {\n",
       "        vertical-align: middle;\n",
       "    }\n",
       "\n",
       "    .dataframe tbody tr th {\n",
       "        vertical-align: top;\n",
       "    }\n",
       "\n",
       "    .dataframe thead th {\n",
       "        text-align: right;\n",
       "    }\n",
       "</style>\n",
       "<table border=\"1\" class=\"dataframe\">\n",
       "  <thead>\n",
       "    <tr style=\"text-align: right;\">\n",
       "      <th></th>\n",
       "      <th>Annualized Return</th>\n",
       "      <th>Annualized Vol</th>\n",
       "      <th>Skewness</th>\n",
       "      <th>Kurtosis</th>\n",
       "      <th>Cornish-Fisher VaR (5%)</th>\n",
       "      <th>Historic CVaR (5%)</th>\n",
       "      <th>Sharpe Ratio</th>\n",
       "      <th>Max Drawdown</th>\n",
       "    </tr>\n",
       "  </thead>\n",
       "  <tbody>\n",
       "    <tr>\n",
       "      <th>EW</th>\n",
       "      <td>0.077614</td>\n",
       "      <td>0.158685</td>\n",
       "      <td>-0.538531</td>\n",
       "      <td>5.317042</td>\n",
       "      <td>0.072485</td>\n",
       "      <td>0.106220</td>\n",
       "      <td>0.291838</td>\n",
       "      <td>-0.532980</td>\n",
       "    </tr>\n",
       "    <tr>\n",
       "      <th>CW</th>\n",
       "      <td>0.064564</td>\n",
       "      <td>0.151274</td>\n",
       "      <td>-0.552933</td>\n",
       "      <td>4.248421</td>\n",
       "      <td>0.070982</td>\n",
       "      <td>0.098269</td>\n",
       "      <td>0.222191</td>\n",
       "      <td>-0.518857</td>\n",
       "    </tr>\n",
       "    <tr>\n",
       "      <th>GMV-Sample</th>\n",
       "      <td>0.066305</td>\n",
       "      <td>0.117410</td>\n",
       "      <td>-0.741086</td>\n",
       "      <td>4.469204</td>\n",
       "      <td>0.055456</td>\n",
       "      <td>0.080583</td>\n",
       "      <td>0.300812</td>\n",
       "      <td>-0.421289</td>\n",
       "    </tr>\n",
       "    <tr>\n",
       "      <th>GMV-Shrink 0.25</th>\n",
       "      <td>0.068466</td>\n",
       "      <td>0.114572</td>\n",
       "      <td>-0.731286</td>\n",
       "      <td>4.264934</td>\n",
       "      <td>0.053884</td>\n",
       "      <td>0.077715</td>\n",
       "      <td>0.326626</td>\n",
       "      <td>-0.393410</td>\n",
       "    </tr>\n",
       "  </tbody>\n",
       "</table>\n",
       "</div>"
      ],
      "text/plain": [
       "                 Annualized Return  Annualized Vol  Skewness  Kurtosis  \\\n",
       "EW                        0.077614        0.158685 -0.538531  5.317042   \n",
       "CW                        0.064564        0.151274 -0.552933  4.248421   \n",
       "GMV-Sample                0.066305        0.117410 -0.741086  4.469204   \n",
       "GMV-Shrink 0.25           0.068466        0.114572 -0.731286  4.264934   \n",
       "\n",
       "                 Cornish-Fisher VaR (5%)  Historic CVaR (5%)  Sharpe Ratio  \\\n",
       "EW                              0.072485            0.106220      0.291838   \n",
       "CW                              0.070982            0.098269      0.222191   \n",
       "GMV-Sample                      0.055456            0.080583      0.300812   \n",
       "GMV-Shrink 0.25                 0.053884            0.077715      0.326626   \n",
       "\n",
       "                 Max Drawdown  \n",
       "EW                  -0.532980  \n",
       "CW                  -0.518857  \n",
       "GMV-Sample          -0.421289  \n",
       "GMV-Shrink 0.25     -0.393410  "
      ]
     },
     "execution_count": 11,
     "metadata": {},
     "output_type": "execute_result"
    }
   ],
   "source": [
    "mv_sh_r = erk.backtest_ws(ind30_rets, estimation_window=36, weighting=erk.weight_gmv, cov_estimator=erk.shrinkage_cov, delta=0.25)\n",
    "btr = pd.DataFrame({\"EW\": ewr, \"CW\": cwr, \"GMV-Sample\": mv_s_r, 'GMV-Shrink 0.25': mv_sh_r})\n",
    "erk.summary_stats(btr.dropna())"
   ]
  }
 ],
 "metadata": {
  "kernelspec": {
   "display_name": "Python 3",
   "language": "python",
   "name": "python3"
  },
  "language_info": {
   "codemirror_mode": {
    "name": "ipython",
    "version": 3
   },
   "file_extension": ".py",
   "mimetype": "text/x-python",
   "name": "python",
   "nbconvert_exporter": "python",
   "pygments_lexer": "ipython3",
   "version": "3.7.6"
  }
 },
 "nbformat": 4,
 "nbformat_minor": 4
}
